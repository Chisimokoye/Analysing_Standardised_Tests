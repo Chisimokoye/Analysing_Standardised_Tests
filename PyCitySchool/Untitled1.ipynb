{
 "cells": [
  {
   "cell_type": "code",
   "execution_count": null,
   "id": "5080dc07",
   "metadata": {},
   "outputs": [],
   "source": [
    "school_temp = school_data_complete.groupby(['school_name'], as_index=False).agg({\"student_name\": lambda x: x.unique(), \n",
    "                                                                   \"budget\": \"mean\", \n",
    "                                                                   \"math_score\": \"mean\",\n",
    "                                                                   \"reading_score\": \"mean\"})\n",
    "school_temp"
   ]
  }
 ],
 "metadata": {
  "kernelspec": {
   "display_name": "PythonData",
   "language": "python",
   "name": "pythondata"
  },
  "language_info": {
   "codemirror_mode": {
    "name": "ipython",
    "version": 3
   },
   "file_extension": ".py",
   "mimetype": "text/x-python",
   "name": "python",
   "nbconvert_exporter": "python",
   "pygments_lexer": "ipython3",
   "version": "3.9.7"
  }
 },
 "nbformat": 4,
 "nbformat_minor": 5
}
